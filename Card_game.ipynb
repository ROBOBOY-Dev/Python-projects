{
 "cells": [
  {
   "cell_type": "code",
   "execution_count": 85,
   "metadata": {},
   "outputs": [],
   "source": [
    "import random\n",
    "\n",
    "suits = ('Hearts', 'Diamonds', 'Spades', 'Clubs')\n",
    "ranks = ('Two', 'Three', 'Four', 'Five', 'Six', 'Seven', 'Eight', 'Nine', 'Ten', 'Jack', 'Queen', 'King', 'Ace')\n",
    "values = {'Two':2, 'Three':3, 'Four':4, 'Five':5, 'Six':6, 'Seven':7, 'Eight':8, 'Nine':9, 'Ten':10, 'Jack':10,\n",
    "         'Queen':10, 'King':10, 'Ace':11}"
   ]
  },
  {
   "cell_type": "code",
   "execution_count": 86,
   "metadata": {},
   "outputs": [],
   "source": [
    "class Card:\n",
    "    def __init__(self,suit,rank):\n",
    "        self.suit = suits\n",
    "        self.rank = ranks\n",
    "        self.value = values[rank]\n",
    "    def __str__(self):\n",
    "        return self.rank + ' of ' + self.suit\n",
    "    \n",
    "    "
   ]
  },
  {
   "cell_type": "code",
   "execution_count": null,
   "metadata": {},
   "outputs": [],
   "source": []
  },
  {
   "cell_type": "code",
   "execution_count": 67,
   "metadata": {},
   "outputs": [
    {
     "data": {
      "text/plain": [
       "<__main__.Card at 0x20cb4644a90>"
      ]
     },
     "execution_count": 67,
     "metadata": {},
     "output_type": "execute_result"
    }
   ],
   "source": [
    "War"
   ]
  },
  {
   "cell_type": "code",
   "execution_count": 68,
   "metadata": {},
   "outputs": [],
   "source": [
    "class Deck:\n",
    "    \n",
    "    def __init__(self):\n",
    "        self.cards = []\n",
    "        \n",
    "        for s in suits:\n",
    "            for r in ranks:\n",
    "                card_objs = Card(s, r)\n",
    "                self.cards.append(card_objs)  \n",
    "    def shuffle(self):\n",
    "        \n",
    "        random.shuffle(self.cards)\n",
    "    def deal(self):\n",
    "        return self.cards.pop()\n",
    "        "
   ]
  },
  {
   "cell_type": "code",
   "execution_count": 69,
   "metadata": {},
   "outputs": [
    {
     "data": {
      "text/plain": [
       "[<__main__.Card at 0x20cb4875460>,\n",
       " <__main__.Card at 0x20cb48752b0>,\n",
       " <__main__.Card at 0x20cb4875e50>,\n",
       " <__main__.Card at 0x20cb4875c70>,\n",
       " <__main__.Card at 0x20cb58aa280>,\n",
       " <__main__.Card at 0x20cb58aa250>,\n",
       " <__main__.Card at 0x20cb58aa2e0>,\n",
       " <__main__.Card at 0x20cb58aa040>,\n",
       " <__main__.Card at 0x20cb417a400>,\n",
       " <__main__.Card at 0x20cb417ae20>,\n",
       " <__main__.Card at 0x20cb5c1e9d0>,\n",
       " <__main__.Card at 0x20cb5c1ee20>,\n",
       " <__main__.Card at 0x20cb5c1e5b0>,\n",
       " <__main__.Card at 0x20cb5c1e670>,\n",
       " <__main__.Card at 0x20cb5c1e280>,\n",
       " <__main__.Card at 0x20cb5c1e640>,\n",
       " <__main__.Card at 0x20cb5c1e2e0>,\n",
       " <__main__.Card at 0x20cb5c1e910>,\n",
       " <__main__.Card at 0x20cb5c1e760>,\n",
       " <__main__.Card at 0x20cb5e2cac0>,\n",
       " <__main__.Card at 0x20cb5e2cca0>,\n",
       " <__main__.Card at 0x20cb5e2c490>,\n",
       " <__main__.Card at 0x20cb5e2c7c0>,\n",
       " <__main__.Card at 0x20cb5e2c730>,\n",
       " <__main__.Card at 0x20cb5e2c4f0>,\n",
       " <__main__.Card at 0x20cb5898a00>,\n",
       " <__main__.Card at 0x20cb5898a90>,\n",
       " <__main__.Card at 0x20cb58989a0>,\n",
       " <__main__.Card at 0x20cb5898940>,\n",
       " <__main__.Card at 0x20cb5898970>,\n",
       " <__main__.Card at 0x20cb5898f40>,\n",
       " <__main__.Card at 0x20cb5961310>,\n",
       " <__main__.Card at 0x20cb472a2b0>,\n",
       " <__main__.Card at 0x20cb4857100>,\n",
       " <__main__.Card at 0x20cb48571f0>,\n",
       " <__main__.Card at 0x20cb48575e0>,\n",
       " <__main__.Card at 0x20cb4857970>,\n",
       " <__main__.Card at 0x20cb4857f70>,\n",
       " <__main__.Card at 0x20cb48721c0>,\n",
       " <__main__.Card at 0x20cb485d640>,\n",
       " <__main__.Card at 0x20cb485dfa0>,\n",
       " <__main__.Card at 0x20cb5c1ce20>,\n",
       " <__main__.Card at 0x20cb5c1cd30>,\n",
       " <__main__.Card at 0x20cb5c1c670>,\n",
       " <__main__.Card at 0x20cb5c1c400>,\n",
       " <__main__.Card at 0x20cb5c1cd90>,\n",
       " <__main__.Card at 0x20cb5c1ca90>,\n",
       " <__main__.Card at 0x20cb5c1ca60>,\n",
       " <__main__.Card at 0x20cb5c25c10>,\n",
       " <__main__.Card at 0x20cb5c25940>,\n",
       " <__main__.Card at 0x20cb5c25a60>,\n",
       " <__main__.Card at 0x20cb5c259a0>]"
      ]
     },
     "execution_count": 69,
     "metadata": {},
     "output_type": "execute_result"
    }
   ],
   "source": [
    "d = Deck()\n",
    "d.cards"
   ]
  },
  {
   "cell_type": "code",
   "execution_count": 70,
   "metadata": {},
   "outputs": [],
   "source": [
    "d.shuffle()"
   ]
  },
  {
   "cell_type": "code",
   "execution_count": 71,
   "metadata": {},
   "outputs": [],
   "source": [
    "class Player:\n",
    "    \n",
    "    def __init__(self,name):\n",
    "        self.name = name\n",
    "        self.cards = []\n",
    "    \n",
    "    def card_eject(self):\n",
    "        self.cards.pop(0)\n",
    "    def card_add(self, new):\n",
    "        if type(new) == type([]):\n",
    "            self.cards.extend(new)\n",
    "        else:\n",
    "            self.cards.append(new)"
   ]
  },
  {
   "cell_type": "code",
   "execution_count": 88,
   "metadata": {},
   "outputs": [],
   "source": [
    "#Game programming\n",
    "\n",
    "player_1 = Player(\"Tom\")\n",
    "player_2 = Player(\"Shiko\")\n",
    "\n",
    "new_deck = Deck()\n",
    "new_deck.shuffle()\n",
    "\n",
    "#Splitting cards on players\n",
    "for i in range(26):\n",
    "    player_1.card_add(new_deck.deal())\n",
    "    player_2.card_add(new_deck.deal())"
   ]
  },
  {
   "cell_type": "code",
   "execution_count": 89,
   "metadata": {},
   "outputs": [
    {
     "ename": "TypeError",
     "evalue": "can only concatenate tuple (not \"str\") to tuple",
     "output_type": "error",
     "traceback": [
      "\u001b[1;31m---------------------------------------------------------------------------\u001b[0m",
      "\u001b[1;31mTypeError\u001b[0m                                 Traceback (most recent call last)",
      "\u001b[1;32m<ipython-input-89-8749c483b3ba>\u001b[0m in \u001b[0;36m<module>\u001b[1;34m\u001b[0m\n\u001b[1;32m----> 1\u001b[1;33m \u001b[0mprint\u001b[0m\u001b[1;33m(\u001b[0m\u001b[0mplayer_1\u001b[0m\u001b[1;33m.\u001b[0m\u001b[0mcards\u001b[0m\u001b[1;33m[\u001b[0m\u001b[1;36m2\u001b[0m\u001b[1;33m]\u001b[0m\u001b[1;33m)\u001b[0m\u001b[1;33m\u001b[0m\u001b[1;33m\u001b[0m\u001b[0m\n\u001b[0m",
      "\u001b[1;32m<ipython-input-86-0510f1ed4e5f>\u001b[0m in \u001b[0;36m__str__\u001b[1;34m(self)\u001b[0m\n\u001b[0;32m      5\u001b[0m         \u001b[0mself\u001b[0m\u001b[1;33m.\u001b[0m\u001b[0mvalue\u001b[0m \u001b[1;33m=\u001b[0m \u001b[0mvalues\u001b[0m\u001b[1;33m[\u001b[0m\u001b[0mrank\u001b[0m\u001b[1;33m]\u001b[0m\u001b[1;33m\u001b[0m\u001b[1;33m\u001b[0m\u001b[0m\n\u001b[0;32m      6\u001b[0m     \u001b[1;32mdef\u001b[0m \u001b[0m__str__\u001b[0m\u001b[1;33m(\u001b[0m\u001b[0mself\u001b[0m\u001b[1;33m)\u001b[0m\u001b[1;33m:\u001b[0m\u001b[1;33m\u001b[0m\u001b[1;33m\u001b[0m\u001b[0m\n\u001b[1;32m----> 7\u001b[1;33m         \u001b[1;32mreturn\u001b[0m \u001b[0mself\u001b[0m\u001b[1;33m.\u001b[0m\u001b[0mrank\u001b[0m \u001b[1;33m+\u001b[0m \u001b[1;34m' of '\u001b[0m \u001b[1;33m+\u001b[0m \u001b[0mself\u001b[0m\u001b[1;33m.\u001b[0m\u001b[0msuit\u001b[0m\u001b[1;33m\u001b[0m\u001b[1;33m\u001b[0m\u001b[0m\n\u001b[0m\u001b[0;32m      8\u001b[0m \u001b[1;33m\u001b[0m\u001b[0m\n\u001b[0;32m      9\u001b[0m \u001b[1;33m\u001b[0m\u001b[0m\n",
      "\u001b[1;31mTypeError\u001b[0m: can only concatenate tuple (not \"str\") to tuple"
     ]
    }
   ],
   "source": [
    "print(player_1.cards[2])"
   ]
  },
  {
   "cell_type": "code",
   "execution_count": 82,
   "metadata": {},
   "outputs": [],
   "source": [
    "Game_on = True"
   ]
  },
  {
   "cell_type": "code",
   "execution_count": 90,
   "metadata": {},
   "outputs": [
    {
     "name": "stdout",
     "output_type": "stream",
     "text": [
      "Round 1\n"
     ]
    },
    {
     "ename": "AttributeError",
     "evalue": "'NoneType' object has no attribute 'value'",
     "output_type": "error",
     "traceback": [
      "\u001b[1;31m---------------------------------------------------------------------------\u001b[0m",
      "\u001b[1;31mAttributeError\u001b[0m                            Traceback (most recent call last)",
      "\u001b[1;32m<ipython-input-90-1def39f57bc2>\u001b[0m in \u001b[0;36m<module>\u001b[1;34m\u001b[0m\n\u001b[0;32m     22\u001b[0m     \u001b[1;32mwhile\u001b[0m \u001b[0mat_war\u001b[0m\u001b[1;33m:\u001b[0m\u001b[1;33m\u001b[0m\u001b[1;33m\u001b[0m\u001b[0m\n\u001b[0;32m     23\u001b[0m \u001b[1;33m\u001b[0m\u001b[0m\n\u001b[1;32m---> 24\u001b[1;33m         \u001b[1;32mif\u001b[0m \u001b[0mplayer_1_cards\u001b[0m\u001b[1;33m[\u001b[0m\u001b[1;33m-\u001b[0m\u001b[1;36m1\u001b[0m\u001b[1;33m]\u001b[0m\u001b[1;33m.\u001b[0m\u001b[0mvalue\u001b[0m \u001b[1;33m>\u001b[0m \u001b[0mplayer_2_cards\u001b[0m\u001b[1;33m[\u001b[0m\u001b[1;33m-\u001b[0m\u001b[1;36m1\u001b[0m\u001b[1;33m]\u001b[0m\u001b[1;33m.\u001b[0m\u001b[0mvalue\u001b[0m\u001b[1;33m:\u001b[0m\u001b[1;33m\u001b[0m\u001b[1;33m\u001b[0m\u001b[0m\n\u001b[0m\u001b[0;32m     25\u001b[0m             \u001b[0mplayer_1\u001b[0m\u001b[1;33m.\u001b[0m\u001b[0mcard_add\u001b[0m\u001b[1;33m(\u001b[0m\u001b[0mplayer_1_cards\u001b[0m\u001b[1;33m)\u001b[0m\u001b[1;33m\u001b[0m\u001b[1;33m\u001b[0m\u001b[0m\n\u001b[0;32m     26\u001b[0m             \u001b[0mplayer_1\u001b[0m\u001b[1;33m.\u001b[0m\u001b[0mcard_add\u001b[0m\u001b[1;33m(\u001b[0m\u001b[0mplayer_2_cards\u001b[0m\u001b[1;33m)\u001b[0m\u001b[1;33m\u001b[0m\u001b[1;33m\u001b[0m\u001b[0m\n",
      "\u001b[1;31mAttributeError\u001b[0m: 'NoneType' object has no attribute 'value'"
     ]
    }
   ],
   "source": [
    "no_round = 0\n",
    "\n",
    "while Game_on:\n",
    "    no_round += 1\n",
    "    print (f\"Round {no_round}\")\n",
    "    if len(player_1.cards) ==0:\n",
    "        print (\"player 1 has lost\")\n",
    "        Game_on = False\n",
    "        break\n",
    "    if len(player_2.cards) ==0:\n",
    "        print (\"player 2 has lost\")\n",
    "        Game_on = False\n",
    "        break\n",
    "    player_1_cards = []\n",
    "    player_1_cards.append(player_1.card_eject())\n",
    "    \n",
    "    player_2_cards = []\n",
    "    player_2_cards.append(player_2.card_eject())\n",
    "    \n",
    "    at_war = True\n",
    "    \n",
    "    while at_war:\n",
    "        \n",
    "        if player_1_cards[-1].value > player_2_cards[-1].value:\n",
    "            player_1.card_add(player_1_cards)\n",
    "            player_1.card_add(player_2_cards)\n",
    "            at_war = False\n",
    "        elif player_1_cards[-1].value < player_2_cards[-1].value:\n",
    "            player_2.card_add(player_1_cards)\n",
    "            player_2.card_add(player_2_cards)\n",
    "            at_war = False\n",
    "        else:\n",
    "            print (\"War\")\n",
    "            \n",
    "            if len(player_1.cards) <3:\n",
    "                print(\"player 2 is the winner\")\n",
    "                Game_on = False\n",
    "                break\n",
    "            elif len(player_2.cards) <3:\n",
    "                print(\"player 1 is the winner\")\n",
    "                Game_on = False\n",
    "                break\n",
    "            else:\n",
    "                for n in range(3):\n",
    "                    player_1_cards.append(player_1.card_eject())\n",
    "                    player_2_cards.append(player_2.card_eject())\n",
    "\n",
    "            \n",
    "\n",
    "\n",
    "        "
   ]
  },
  {
   "cell_type": "code",
   "execution_count": null,
   "metadata": {},
   "outputs": [],
   "source": []
  }
 ],
 "metadata": {
  "kernelspec": {
   "display_name": "Python 3",
   "language": "python",
   "name": "python3"
  },
  "language_info": {
   "codemirror_mode": {
    "name": "ipython",
    "version": 3
   },
   "file_extension": ".py",
   "mimetype": "text/x-python",
   "name": "python",
   "nbconvert_exporter": "python",
   "pygments_lexer": "ipython3",
   "version": "3.8.2"
  }
 },
 "nbformat": 4,
 "nbformat_minor": 4
}
